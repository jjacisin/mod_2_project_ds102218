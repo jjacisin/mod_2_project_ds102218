{
 "cells": [
  {
   "cell_type": "code",
   "execution_count": 2,
   "metadata": {},
   "outputs": [],
   "source": [
    "import pandas as pd"
   ]
  },
  {
   "cell_type": "code",
   "execution_count": 3,
   "metadata": {},
   "outputs": [],
   "source": [
    "df = pd.read_csv('Texas_District_all.csv')"
   ]
  },
  {
   "cell_type": "code",
   "execution_count": 6,
   "metadata": {},
   "outputs": [
    {
     "data": {
      "text/plain": [
       "['Sex and Age',\n",
       " 'Race',\n",
       " 'Hispanic or Latino and Race',\n",
       " 'Place of Birth',\n",
       " 'Ancestry',\n",
       " 'Veteran Status',\n",
       " 'Disability Status of the Civilian Noninstitutionalized Population',\n",
       " 'Residence 1 Year Ago',\n",
       " 'Employment Status',\n",
       " 'Commuting to Work',\n",
       " 'Occupation',\n",
       " 'Industry',\n",
       " 'Class of Worker',\n",
       " 'Housing Occupancy',\n",
       " 'Housing Tenure',\n",
       " 'Year Householder Moved into Unit',\n",
       " 'Value',\n",
       " 'Mortgage Status',\n",
       " 'Selected Monthly Owner Costs(SMOC)',\n",
       " 'Gross Rent',\n",
       " 'Income and Benefits (In 2017 inflationlation-adjusted dollars)',\n",
       " 'Income and Benefits (In 2017 inflation-adjusted dollars)',\n",
       " 'Health Insurance Coverage',\n",
       " 'Percentage of Families and People Whose Income in the Past 12 Months is Below the Poverty Level',\n",
       " 'School Enrollment',\n",
       " 'Educational Attainment',\n",
       " nan,\n",
       " 'Subject',\n",
       " 'Paid employees for pay period including March 12',\n",
       " 'Annual payroll ($1,000)',\n",
       " 'Total Establishments']"
      ]
     },
     "execution_count": 6,
     "metadata": {},
     "output_type": "execute_result"
    }
   ],
   "source": [
    "list(df[\"Subject\"].unique())"
   ]
  },
  {
   "cell_type": "code",
   "execution_count": null,
   "metadata": {},
   "outputs": [],
   "source": []
  }
 ],
 "metadata": {
  "kernelspec": {
   "display_name": "Python 3",
   "language": "python",
   "name": "python3"
  },
  "language_info": {
   "codemirror_mode": {
    "name": "ipython",
    "version": 3
   },
   "file_extension": ".py",
   "mimetype": "text/x-python",
   "name": "python",
   "nbconvert_exporter": "python",
   "pygments_lexer": "ipython3",
   "version": "3.7.0"
  }
 },
 "nbformat": 4,
 "nbformat_minor": 2
}
